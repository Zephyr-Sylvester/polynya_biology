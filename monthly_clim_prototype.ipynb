{
 "cells": [
  {
   "cell_type": "markdown",
   "metadata": {},
   "source": [
    "## Monthly climatologies of biological variables in and out of polynyas in the sea ice zone of the Southern Ocean"
   ]
  },
  {
   "cell_type": "code",
   "execution_count": 1,
   "metadata": {},
   "outputs": [],
   "source": [
    "%matplotlib inline\n",
    "import warnings\n",
    "warnings.filterwarnings('ignore')\n",
    "import os\n",
    "from glob import glob\n",
    "import xarray as xr\n",
    "import numpy as np\n",
    "import esmlab\n",
    "import matplotlib.pyplot as plt\n",
    "import cartopy\n",
    "import cartopy.crs as ccrs\n",
    "from scipy import stats\n",
    "import pop_tools \n",
    "\n",
    "from statistics import mean\n",
    "from matplotlib import style\n",
    "from scipy import stats\n",
    "import matplotlib.path as mpath"
   ]
  },
  {
   "cell_type": "markdown",
   "metadata": {},
   "source": [
    "### Get the CESM2 4p4z tseries files "
   ]
  },
  {
   "cell_type": "code",
   "execution_count": 2,
   "metadata": {},
   "outputs": [],
   "source": [
    "case = 'g.e22a06.G1850ECOIAF_JRA_PHYS_DEV.TL319_g17.4p4z.005'\n",
    "path = '/glade/scratch/kristenk/archive/' + case + '/ocn/proc/tseries/month_1'\n",
    "variables = ['spC','coccoC','diatC','zoo1C','zoo2C','zoo3C','zoo4C',\n",
    "             'x_graze_zoo1_zint','x_graze_zoo2_zint','x_graze_zoo3_zint','x_graze_zoo4_zint',\n",
    "             'photoC_TOT_zint', 'photoC_diat_zint', 'photoC_sp_zint', 'photoC_cocco_zint',\n",
    "            'IFRAC']"
   ]
  },
  {
   "cell_type": "code",
   "execution_count": 3,
   "metadata": {},
   "outputs": [
    {
     "name": "stdout",
     "output_type": "stream",
     "text": [
      "reading g.e22a06.G1850ECOIAF_JRA_PHYS_DEV.TL319_g17.4p4z.005\n",
      "spC\n",
      "coccoC\n",
      "diatC\n",
      "zoo1C\n",
      "zoo2C\n",
      "zoo3C\n",
      "zoo4C\n",
      "x_graze_zoo1_zint\n",
      "x_graze_zoo2_zint\n",
      "x_graze_zoo3_zint\n",
      "x_graze_zoo4_zint\n",
      "photoC_TOT_zint\n",
      "photoC_diat_zint\n",
      "photoC_sp_zint\n",
      "photoC_cocco_zint\n",
      "IFRAC\n",
      "CPU times: user 7.74 s, sys: 433 ms, total: 8.18 s\n",
      "Wall time: 10.9 s\n"
     ]
    }
   ],
   "source": [
    "%%time\n",
    "ds_list = []\n",
    "print(f'reading {case}')\n",
    "ds = xr.Dataset()\n",
    "\n",
    "for v in variables:  \n",
    "    print(v)\n",
    "    files = sorted(glob(f'{path}/{case}.pop.h.{v}.006201-012212.nc'))       \n",
    "    dsv=xr.open_mfdataset(files, data_vars=\"minimal\", coords='minimal', compat=\"override\", parallel=True, concat_dim=\"time\",\n",
    "                       drop_variables=[\"transport_components\", \"transport_regions\"], decode_times=True)\n",
    "    \n",
    "    ds = xr.merge((ds, dsv))\n",
    "    ds_list.append(ds)"
   ]
  },
  {
   "cell_type": "code",
   "execution_count": 4,
   "metadata": {},
   "outputs": [],
   "source": [
    "coords = {'x':'TLONG','y':'TLAT'}\n",
    "keepthese=['z_t','z_t_150m','time_bound','TAREA','REGION_MASK'] + variables\n",
    "keep_vars = keepthese +list(coords.values())+['dz','KMT']\n",
    "ds = ds.drop([v for v in ds.variables if v not in keep_vars])"
   ]
  },
  {
   "cell_type": "markdown",
   "metadata": {},
   "source": [
    "### trim latitude"
   ]
  },
  {
   "cell_type": "code",
   "execution_count": 5,
   "metadata": {},
   "outputs": [],
   "source": [
    "ds = ds.isel(nlat=slice(0,76))"
   ]
  },
  {
   "cell_type": "markdown",
   "metadata": {},
   "source": [
    "### fix time bounds"
   ]
  },
  {
   "cell_type": "code",
   "execution_count": 6,
   "metadata": {},
   "outputs": [],
   "source": [
    "#fix time dimension so it's a mean of the timebounds\n",
    "ds[\"time\"] = ds.time_bound.compute().mean(dim=\"d2\")"
   ]
  },
  {
   "cell_type": "markdown",
   "metadata": {},
   "source": [
    "### calculate 2-D fields & drop the 3-D ones"
   ]
  },
  {
   "cell_type": "code",
   "execution_count": 7,
   "metadata": {
    "tags": []
   },
   "outputs": [],
   "source": [
    "tmp = ds.zoo1C * 10.\n",
    "ds['zoo1C_zint'] = tmp.sum(dim='z_t_150m')\n",
    "tmp = ds.zoo2C * 10.\n",
    "ds['zoo2C_zint'] = tmp.sum(dim='z_t_150m')\n",
    "tmp = ds.zoo3C * 10.\n",
    "ds['zoo3C_zint'] = tmp.sum(dim='z_t_150m')\n",
    "tmp = ds.zoo4C * 10.\n",
    "ds['zoo4C_zint'] = tmp.sum(dim='z_t_150m')\n",
    "\n",
    "ds['zooC_TOT_zint'] = ds['zoo1C_zint'] + ds['zoo2C_zint'] + ds['zoo3C_zint'] + ds['zoo4C_zint']\n",
    "\n",
    "tmp = ds.spC * 10.\n",
    "ds['spC_zint'] = tmp.sum(dim='z_t_150m')\n",
    "tmp = ds.diatC * 10.\n",
    "ds['diatC_zint'] = tmp.sum(dim='z_t_150m')\n",
    "tmp = ds.coccoC * 10.\n",
    "ds['coccoC_zint'] = tmp.sum(dim='z_t_150m')\n",
    "\n",
    "ds['phytoC_TOT_zint'] = ds['spC_zint'] + ds['diatC_zint'] + ds['coccoC_zint']"
   ]
  },
  {
   "cell_type": "markdown",
   "metadata": {},
   "source": [
    "### get coords"
   ]
  },
  {
   "cell_type": "code",
   "execution_count": 8,
   "metadata": {},
   "outputs": [],
   "source": [
    "ds_grid = pop_tools.get_grid('POP_gx1v7')\n",
    "ds_grid = ds_grid.isel(nlat=slice(0,76))\n",
    "lons=ds_grid.TLONG\n",
    "lats=ds_grid.TLAT\n",
    "area=ds_grid.TAREA\n",
    "area_m=ds_grid.TAREA * 1e-4\n",
    "\n",
    "ds['z_t']=ds_grid.z_t\n",
    "depths_m=ds_grid.z_t * 0.01\n",
    "dz=ds_grid.dz\n",
    "dz_m=ds_grid.dz * 0.01\n",
    "tlen=len(ds.time)"
   ]
  },
  {
   "cell_type": "markdown",
   "metadata": {},
   "source": [
    "### a bit of housekeeping"
   ]
  },
  {
   "cell_type": "code",
   "execution_count": 9,
   "metadata": {},
   "outputs": [],
   "source": [
    "ds = ds.drop(['spC','coccoC','diatC','zoo1C','zoo2C','zoo3C','zoo4C'])\n",
    "ds  = ds.drop(['z_t','z_t_150m'])\n",
    "ds  = ds.where(ds_grid.REGION_MASK>0)"
   ]
  },
  {
   "cell_type": "code",
   "execution_count": 10,
   "metadata": {},
   "outputs": [],
   "source": [
    "#redefine variable list\n",
    "variables = ['phytoC_TOT_zint','zooC_TOT_zint'] # 'spC_zint','coccoC_zint','diatC_zint','zoo1C_zint','zoo2C_zint','zoo3C_zint','zoo4C_zint',\n",
    "             #'x_graze_zoo1_zint','x_graze_zoo2_zint','x_graze_zoo3_zint','x_graze_zoo4_zint',\n",
    "             #'photoC_TOT_zint', 'photoC_diat_zint', 'photoC_sp_zint', 'photoC_cocco_zint',\n",
    "            #'IFRAC','phytoC_TOT_zint','zooC_TOT_zint']"
   ]
  },
  {
   "cell_type": "markdown",
   "metadata": {},
   "source": [
    "### Get polynya masks \n",
    "\n",
    "#### 0 = not a polynya\n",
    "#### 1 = open water polynya\n",
    "#### 2 = coastal polynya\n"
   ]
  },
  {
   "cell_type": "code",
   "execution_count": 27,
   "metadata": {},
   "outputs": [],
   "source": [
    "# thres_var='aice'\n",
    "# thres = '25%'\n",
    "\n",
    "# thres_var='hi'\n",
    "# thres = '0.8m'\n",
    "\n",
    "thres_var='hi'\n",
    "thres = '0.22m'\n",
    "\n",
    "path = '/glade/p/cesm/pcwg/landrum/' + case + '/ice/polynyas/monthly/'"
   ]
  },
  {
   "cell_type": "code",
   "execution_count": 28,
   "metadata": {},
   "outputs": [],
   "source": [
    "file = path + case + '.' + thres_var + '_' + thres + 'thresh.polynya_sh.006201-012212.nc'\n",
    "\n",
    "ds_poly = xr.open_dataset(file, drop_variables=[\"transport_components\", \"transport_regions\"], decode_times=True)"
   ]
  },
  {
   "cell_type": "markdown",
   "metadata": {},
   "source": [
    "### a bit more housekeeping"
   ]
  },
  {
   "cell_type": "code",
   "execution_count": 29,
   "metadata": {},
   "outputs": [],
   "source": [
    "ds_poly = ds_poly.rename({'lon': 'nlon','lat': 'nlat'})"
   ]
  },
  {
   "cell_type": "code",
   "execution_count": 30,
   "metadata": {},
   "outputs": [],
   "source": [
    "ds_poly['time'] = ds.time"
   ]
  },
  {
   "cell_type": "code",
   "execution_count": 31,
   "metadata": {},
   "outputs": [],
   "source": [
    "ds['polynyas'] = ds_poly['polynyas']"
   ]
  },
  {
   "cell_type": "markdown",
   "metadata": {},
   "source": [
    "### make timeseries in the polynyas"
   ]
  },
  {
   "cell_type": "code",
   "execution_count": 32,
   "metadata": {},
   "outputs": [
    {
     "name": "stdout",
     "output_type": "stream",
     "text": [
      "doing var  phytoC_TOT_zint\n",
      "doing var  zooC_TOT_zint\n",
      "CPU times: user 8min 18s, sys: 1min 4s, total: 9min 23s\n",
      "Wall time: 11min 19s\n"
     ]
    }
   ],
   "source": [
    "%%time\n",
    "ts_nonpolynas = xr.Dataset({v: ds[v] for v in ['time']})\n",
    "ts_openpolynas = xr.Dataset({v: ds[v] for v in ['time']})\n",
    "ts_coastalpolynas = xr.Dataset({v: ds[v] for v in ['time']})\n",
    "\n",
    "\n",
    "for var in variables:\n",
    "    \n",
    "    print('doing var ',var)\n",
    "    \n",
    "    masked = ds[var].where(ds.polynyas==0.).where(ds.IFRAC>0.15)\n",
    "    ts_nonpolynas[var] = esmlab.weighted_mean(masked, weights=area, dim=['nlat', 'nlon']).compute()\n",
    "    \n",
    "    masked = ds[var].where(ds.polynyas==1.)\n",
    "    ts_openpolynas[var] = esmlab.weighted_mean(masked, weights=area, dim=['nlat', 'nlon']).compute()\n",
    "    \n",
    "    masked = ds[var].where(ds.polynyas==2.)\n",
    "    ts_coastalpolynas[var] = esmlab.weighted_mean(masked, weights=area, dim=['nlat', 'nlon']).compute()\n",
    "    \n"
   ]
  },
  {
   "cell_type": "markdown",
   "metadata": {},
   "source": [
    "### Make monthly climatology "
   ]
  },
  {
   "cell_type": "code",
   "execution_count": 33,
   "metadata": {},
   "outputs": [],
   "source": [
    "clim_nonpolynas = ts_nonpolynas.groupby('time.month').mean('time')\n",
    "clim_openpolynas = ts_openpolynas.groupby('time.month').mean('time')\n",
    "clim_coastalpolynas = ts_coastalpolynas.groupby('time.month').mean('time')"
   ]
  },
  {
   "cell_type": "code",
   "execution_count": 34,
   "metadata": {},
   "outputs": [],
   "source": [
    "clim_nonpolynas = xr.concat([clim_nonpolynas,clim_nonpolynas.isel(month=slice(0,6))],dim='month')\n",
    "clim_openpolynas = xr.concat([clim_openpolynas,clim_openpolynas.isel(month=slice(0,6))],dim='month')\n",
    "clim_coastalpolynas = xr.concat([clim_coastalpolynas,clim_coastalpolynas.isel(month=slice(0,6))],dim='month')"
   ]
  },
  {
   "cell_type": "code",
   "execution_count": 35,
   "metadata": {},
   "outputs": [
    {
     "data": {
      "text/html": [
       "<div><svg style=\"position: absolute; width: 0; height: 0; overflow: hidden\">\n",
       "<defs>\n",
       "<symbol id=\"icon-database\" viewBox=\"0 0 32 32\">\n",
       "<path d=\"M16 0c-8.837 0-16 2.239-16 5v4c0 2.761 7.163 5 16 5s16-2.239 16-5v-4c0-2.761-7.163-5-16-5z\"></path>\n",
       "<path d=\"M16 17c-8.837 0-16-2.239-16-5v6c0 2.761 7.163 5 16 5s16-2.239 16-5v-6c0 2.761-7.163 5-16 5z\"></path>\n",
       "<path d=\"M16 26c-8.837 0-16-2.239-16-5v6c0 2.761 7.163 5 16 5s16-2.239 16-5v-6c0 2.761-7.163 5-16 5z\"></path>\n",
       "</symbol>\n",
       "<symbol id=\"icon-file-text2\" viewBox=\"0 0 32 32\">\n",
       "<path d=\"M28.681 7.159c-0.694-0.947-1.662-2.053-2.724-3.116s-2.169-2.030-3.116-2.724c-1.612-1.182-2.393-1.319-2.841-1.319h-15.5c-1.378 0-2.5 1.121-2.5 2.5v27c0 1.378 1.122 2.5 2.5 2.5h23c1.378 0 2.5-1.122 2.5-2.5v-19.5c0-0.448-0.137-1.23-1.319-2.841zM24.543 5.457c0.959 0.959 1.712 1.825 2.268 2.543h-4.811v-4.811c0.718 0.556 1.584 1.309 2.543 2.268zM28 29.5c0 0.271-0.229 0.5-0.5 0.5h-23c-0.271 0-0.5-0.229-0.5-0.5v-27c0-0.271 0.229-0.5 0.5-0.5 0 0 15.499-0 15.5 0v7c0 0.552 0.448 1 1 1h7v19.5z\"></path>\n",
       "<path d=\"M23 26h-14c-0.552 0-1-0.448-1-1s0.448-1 1-1h14c0.552 0 1 0.448 1 1s-0.448 1-1 1z\"></path>\n",
       "<path d=\"M23 22h-14c-0.552 0-1-0.448-1-1s0.448-1 1-1h14c0.552 0 1 0.448 1 1s-0.448 1-1 1z\"></path>\n",
       "<path d=\"M23 18h-14c-0.552 0-1-0.448-1-1s0.448-1 1-1h14c0.552 0 1 0.448 1 1s-0.448 1-1 1z\"></path>\n",
       "</symbol>\n",
       "</defs>\n",
       "</svg>\n",
       "<style>/* CSS stylesheet for displaying xarray objects in jupyterlab.\n",
       " *\n",
       " */\n",
       "\n",
       ":root {\n",
       "  --xr-font-color0: var(--jp-content-font-color0, rgba(0, 0, 0, 1));\n",
       "  --xr-font-color2: var(--jp-content-font-color2, rgba(0, 0, 0, 0.54));\n",
       "  --xr-font-color3: var(--jp-content-font-color3, rgba(0, 0, 0, 0.38));\n",
       "  --xr-border-color: var(--jp-border-color2, #e0e0e0);\n",
       "  --xr-disabled-color: var(--jp-layout-color3, #bdbdbd);\n",
       "  --xr-background-color: var(--jp-layout-color0, white);\n",
       "  --xr-background-color-row-even: var(--jp-layout-color1, white);\n",
       "  --xr-background-color-row-odd: var(--jp-layout-color2, #eeeeee);\n",
       "}\n",
       "\n",
       "html[theme=dark],\n",
       "body.vscode-dark {\n",
       "  --xr-font-color0: rgba(255, 255, 255, 1);\n",
       "  --xr-font-color2: rgba(255, 255, 255, 0.54);\n",
       "  --xr-font-color3: rgba(255, 255, 255, 0.38);\n",
       "  --xr-border-color: #1F1F1F;\n",
       "  --xr-disabled-color: #515151;\n",
       "  --xr-background-color: #111111;\n",
       "  --xr-background-color-row-even: #111111;\n",
       "  --xr-background-color-row-odd: #313131;\n",
       "}\n",
       "\n",
       ".xr-wrap {\n",
       "  display: block;\n",
       "  min-width: 300px;\n",
       "  max-width: 700px;\n",
       "}\n",
       "\n",
       ".xr-text-repr-fallback {\n",
       "  /* fallback to plain text repr when CSS is not injected (untrusted notebook) */\n",
       "  display: none;\n",
       "}\n",
       "\n",
       ".xr-header {\n",
       "  padding-top: 6px;\n",
       "  padding-bottom: 6px;\n",
       "  margin-bottom: 4px;\n",
       "  border-bottom: solid 1px var(--xr-border-color);\n",
       "}\n",
       "\n",
       ".xr-header > div,\n",
       ".xr-header > ul {\n",
       "  display: inline;\n",
       "  margin-top: 0;\n",
       "  margin-bottom: 0;\n",
       "}\n",
       "\n",
       ".xr-obj-type,\n",
       ".xr-array-name {\n",
       "  margin-left: 2px;\n",
       "  margin-right: 10px;\n",
       "}\n",
       "\n",
       ".xr-obj-type {\n",
       "  color: var(--xr-font-color2);\n",
       "}\n",
       "\n",
       ".xr-sections {\n",
       "  padding-left: 0 !important;\n",
       "  display: grid;\n",
       "  grid-template-columns: 150px auto auto 1fr 20px 20px;\n",
       "}\n",
       "\n",
       ".xr-section-item {\n",
       "  display: contents;\n",
       "}\n",
       "\n",
       ".xr-section-item input {\n",
       "  display: none;\n",
       "}\n",
       "\n",
       ".xr-section-item input + label {\n",
       "  color: var(--xr-disabled-color);\n",
       "}\n",
       "\n",
       ".xr-section-item input:enabled + label {\n",
       "  cursor: pointer;\n",
       "  color: var(--xr-font-color2);\n",
       "}\n",
       "\n",
       ".xr-section-item input:enabled + label:hover {\n",
       "  color: var(--xr-font-color0);\n",
       "}\n",
       "\n",
       ".xr-section-summary {\n",
       "  grid-column: 1;\n",
       "  color: var(--xr-font-color2);\n",
       "  font-weight: 500;\n",
       "}\n",
       "\n",
       ".xr-section-summary > span {\n",
       "  display: inline-block;\n",
       "  padding-left: 0.5em;\n",
       "}\n",
       "\n",
       ".xr-section-summary-in:disabled + label {\n",
       "  color: var(--xr-font-color2);\n",
       "}\n",
       "\n",
       ".xr-section-summary-in + label:before {\n",
       "  display: inline-block;\n",
       "  content: '►';\n",
       "  font-size: 11px;\n",
       "  width: 15px;\n",
       "  text-align: center;\n",
       "}\n",
       "\n",
       ".xr-section-summary-in:disabled + label:before {\n",
       "  color: var(--xr-disabled-color);\n",
       "}\n",
       "\n",
       ".xr-section-summary-in:checked + label:before {\n",
       "  content: '▼';\n",
       "}\n",
       "\n",
       ".xr-section-summary-in:checked + label > span {\n",
       "  display: none;\n",
       "}\n",
       "\n",
       ".xr-section-summary,\n",
       ".xr-section-inline-details {\n",
       "  padding-top: 4px;\n",
       "  padding-bottom: 4px;\n",
       "}\n",
       "\n",
       ".xr-section-inline-details {\n",
       "  grid-column: 2 / -1;\n",
       "}\n",
       "\n",
       ".xr-section-details {\n",
       "  display: none;\n",
       "  grid-column: 1 / -1;\n",
       "  margin-bottom: 5px;\n",
       "}\n",
       "\n",
       ".xr-section-summary-in:checked ~ .xr-section-details {\n",
       "  display: contents;\n",
       "}\n",
       "\n",
       ".xr-array-wrap {\n",
       "  grid-column: 1 / -1;\n",
       "  display: grid;\n",
       "  grid-template-columns: 20px auto;\n",
       "}\n",
       "\n",
       ".xr-array-wrap > label {\n",
       "  grid-column: 1;\n",
       "  vertical-align: top;\n",
       "}\n",
       "\n",
       ".xr-preview {\n",
       "  color: var(--xr-font-color3);\n",
       "}\n",
       "\n",
       ".xr-array-preview,\n",
       ".xr-array-data {\n",
       "  padding: 0 5px !important;\n",
       "  grid-column: 2;\n",
       "}\n",
       "\n",
       ".xr-array-data,\n",
       ".xr-array-in:checked ~ .xr-array-preview {\n",
       "  display: none;\n",
       "}\n",
       "\n",
       ".xr-array-in:checked ~ .xr-array-data,\n",
       ".xr-array-preview {\n",
       "  display: inline-block;\n",
       "}\n",
       "\n",
       ".xr-dim-list {\n",
       "  display: inline-block !important;\n",
       "  list-style: none;\n",
       "  padding: 0 !important;\n",
       "  margin: 0;\n",
       "}\n",
       "\n",
       ".xr-dim-list li {\n",
       "  display: inline-block;\n",
       "  padding: 0;\n",
       "  margin: 0;\n",
       "}\n",
       "\n",
       ".xr-dim-list:before {\n",
       "  content: '(';\n",
       "}\n",
       "\n",
       ".xr-dim-list:after {\n",
       "  content: ')';\n",
       "}\n",
       "\n",
       ".xr-dim-list li:not(:last-child):after {\n",
       "  content: ',';\n",
       "  padding-right: 5px;\n",
       "}\n",
       "\n",
       ".xr-has-index {\n",
       "  font-weight: bold;\n",
       "}\n",
       "\n",
       ".xr-var-list,\n",
       ".xr-var-item {\n",
       "  display: contents;\n",
       "}\n",
       "\n",
       ".xr-var-item > div,\n",
       ".xr-var-item label,\n",
       ".xr-var-item > .xr-var-name span {\n",
       "  background-color: var(--xr-background-color-row-even);\n",
       "  margin-bottom: 0;\n",
       "}\n",
       "\n",
       ".xr-var-item > .xr-var-name:hover span {\n",
       "  padding-right: 5px;\n",
       "}\n",
       "\n",
       ".xr-var-list > li:nth-child(odd) > div,\n",
       ".xr-var-list > li:nth-child(odd) > label,\n",
       ".xr-var-list > li:nth-child(odd) > .xr-var-name span {\n",
       "  background-color: var(--xr-background-color-row-odd);\n",
       "}\n",
       "\n",
       ".xr-var-name {\n",
       "  grid-column: 1;\n",
       "}\n",
       "\n",
       ".xr-var-dims {\n",
       "  grid-column: 2;\n",
       "}\n",
       "\n",
       ".xr-var-dtype {\n",
       "  grid-column: 3;\n",
       "  text-align: right;\n",
       "  color: var(--xr-font-color2);\n",
       "}\n",
       "\n",
       ".xr-var-preview {\n",
       "  grid-column: 4;\n",
       "}\n",
       "\n",
       ".xr-var-name,\n",
       ".xr-var-dims,\n",
       ".xr-var-dtype,\n",
       ".xr-preview,\n",
       ".xr-attrs dt {\n",
       "  white-space: nowrap;\n",
       "  overflow: hidden;\n",
       "  text-overflow: ellipsis;\n",
       "  padding-right: 10px;\n",
       "}\n",
       "\n",
       ".xr-var-name:hover,\n",
       ".xr-var-dims:hover,\n",
       ".xr-var-dtype:hover,\n",
       ".xr-attrs dt:hover {\n",
       "  overflow: visible;\n",
       "  width: auto;\n",
       "  z-index: 1;\n",
       "}\n",
       "\n",
       ".xr-var-attrs,\n",
       ".xr-var-data {\n",
       "  display: none;\n",
       "  background-color: var(--xr-background-color) !important;\n",
       "  padding-bottom: 5px !important;\n",
       "}\n",
       "\n",
       ".xr-var-attrs-in:checked ~ .xr-var-attrs,\n",
       ".xr-var-data-in:checked ~ .xr-var-data {\n",
       "  display: block;\n",
       "}\n",
       "\n",
       ".xr-var-data > table {\n",
       "  float: right;\n",
       "}\n",
       "\n",
       ".xr-var-name span,\n",
       ".xr-var-data,\n",
       ".xr-attrs {\n",
       "  padding-left: 25px !important;\n",
       "}\n",
       "\n",
       ".xr-attrs,\n",
       ".xr-var-attrs,\n",
       ".xr-var-data {\n",
       "  grid-column: 1 / -1;\n",
       "}\n",
       "\n",
       "dl.xr-attrs {\n",
       "  padding: 0;\n",
       "  margin: 0;\n",
       "  display: grid;\n",
       "  grid-template-columns: 125px auto;\n",
       "}\n",
       "\n",
       ".xr-attrs dt,\n",
       ".xr-attrs dd {\n",
       "  padding: 0;\n",
       "  margin: 0;\n",
       "  float: left;\n",
       "  padding-right: 10px;\n",
       "  width: auto;\n",
       "}\n",
       "\n",
       ".xr-attrs dt {\n",
       "  font-weight: normal;\n",
       "  grid-column: 1;\n",
       "}\n",
       "\n",
       ".xr-attrs dt:hover span {\n",
       "  display: inline-block;\n",
       "  background: var(--xr-background-color);\n",
       "  padding-right: 10px;\n",
       "}\n",
       "\n",
       ".xr-attrs dd {\n",
       "  grid-column: 2;\n",
       "  white-space: pre-wrap;\n",
       "  word-break: break-all;\n",
       "}\n",
       "\n",
       ".xr-icon-database,\n",
       ".xr-icon-file-text2 {\n",
       "  display: inline-block;\n",
       "  vertical-align: middle;\n",
       "  width: 1em;\n",
       "  height: 1.5em !important;\n",
       "  stroke-width: 0;\n",
       "  stroke: currentColor;\n",
       "  fill: currentColor;\n",
       "}\n",
       "</style><pre class='xr-text-repr-fallback'>&lt;xarray.DataArray &#x27;phytoC_TOT_zint&#x27; (month: 18)&gt;\n",
       "array([253.69326538, 378.12133551, 165.47579002,  52.27513094,\n",
       "        20.70880508,   7.8909359 ,          nan,  15.01668704,\n",
       "        12.47145638,          nan, 116.52259646, 229.82914336,\n",
       "       253.69326538, 378.12133551, 165.47579002,  52.27513094,\n",
       "        20.70880508,   7.8909359 ])\n",
       "Coordinates:\n",
       "  * month    (month) int64 1 2 3 4 5 6 7 8 9 10 11 12 1 2 3 4 5 6\n",
       "Attributes:\n",
       "    long_name:     Small Phyto Carbon\n",
       "    units:         mmol/m^3\n",
       "    grid_loc:      3114\n",
       "    cell_methods:  time: mean</pre><div class='xr-wrap' hidden><div class='xr-header'><div class='xr-obj-type'>xarray.DataArray</div><div class='xr-array-name'>'phytoC_TOT_zint'</div><ul class='xr-dim-list'><li><span class='xr-has-index'>month</span>: 18</li></ul></div><ul class='xr-sections'><li class='xr-section-item'><div class='xr-array-wrap'><input id='section-4ce6d0aa-fc1e-4160-bc84-8ca2900c9770' class='xr-array-in' type='checkbox' checked><label for='section-4ce6d0aa-fc1e-4160-bc84-8ca2900c9770' title='Show/hide data repr'><svg class='icon xr-icon-database'><use xlink:href='#icon-database'></use></svg></label><div class='xr-array-preview xr-preview'><span>253.7 378.1 165.5 52.28 20.71 7.891 ... 378.1 165.5 52.28 20.71 7.891</span></div><div class='xr-array-data'><pre>array([253.69326538, 378.12133551, 165.47579002,  52.27513094,\n",
       "        20.70880508,   7.8909359 ,          nan,  15.01668704,\n",
       "        12.47145638,          nan, 116.52259646, 229.82914336,\n",
       "       253.69326538, 378.12133551, 165.47579002,  52.27513094,\n",
       "        20.70880508,   7.8909359 ])</pre></div></div></li><li class='xr-section-item'><input id='section-f1003f9f-562c-487a-9937-b415ac72d816' class='xr-section-summary-in' type='checkbox'  checked><label for='section-f1003f9f-562c-487a-9937-b415ac72d816' class='xr-section-summary' >Coordinates: <span>(1)</span></label><div class='xr-section-inline-details'></div><div class='xr-section-details'><ul class='xr-var-list'><li class='xr-var-item'><div class='xr-var-name'><span class='xr-has-index'>month</span></div><div class='xr-var-dims'>(month)</div><div class='xr-var-dtype'>int64</div><div class='xr-var-preview xr-preview'>1 2 3 4 5 6 7 8 ... 12 1 2 3 4 5 6</div><input id='attrs-91bbc84c-8bc4-47b3-b264-a57d3ce51210' class='xr-var-attrs-in' type='checkbox' disabled><label for='attrs-91bbc84c-8bc4-47b3-b264-a57d3ce51210' title='Show/Hide attributes'><svg class='icon xr-icon-file-text2'><use xlink:href='#icon-file-text2'></use></svg></label><input id='data-2a3eeae3-a213-4c53-9109-ec0cfb8a4a9c' class='xr-var-data-in' type='checkbox'><label for='data-2a3eeae3-a213-4c53-9109-ec0cfb8a4a9c' title='Show/Hide data repr'><svg class='icon xr-icon-database'><use xlink:href='#icon-database'></use></svg></label><div class='xr-var-attrs'><dl class='xr-attrs'></dl></div><div class='xr-var-data'><pre>array([ 1,  2,  3,  4,  5,  6,  7,  8,  9, 10, 11, 12,  1,  2,  3,  4,  5,  6])</pre></div></li></ul></div></li><li class='xr-section-item'><input id='section-0dfc8e3b-acc6-4e85-a8cd-aa49caac2d42' class='xr-section-summary-in' type='checkbox'  checked><label for='section-0dfc8e3b-acc6-4e85-a8cd-aa49caac2d42' class='xr-section-summary' >Attributes: <span>(4)</span></label><div class='xr-section-inline-details'></div><div class='xr-section-details'><dl class='xr-attrs'><dt><span>long_name :</span></dt><dd>Small Phyto Carbon</dd><dt><span>units :</span></dt><dd>mmol/m^3</dd><dt><span>grid_loc :</span></dt><dd>3114</dd><dt><span>cell_methods :</span></dt><dd>time: mean</dd></dl></div></li></ul></div></div>"
      ],
      "text/plain": [
       "<xarray.DataArray 'phytoC_TOT_zint' (month: 18)>\n",
       "array([253.69326538, 378.12133551, 165.47579002,  52.27513094,\n",
       "        20.70880508,   7.8909359 ,          nan,  15.01668704,\n",
       "        12.47145638,          nan, 116.52259646, 229.82914336,\n",
       "       253.69326538, 378.12133551, 165.47579002,  52.27513094,\n",
       "        20.70880508,   7.8909359 ])\n",
       "Coordinates:\n",
       "  * month    (month) int64 1 2 3 4 5 6 7 8 9 10 11 12 1 2 3 4 5 6\n",
       "Attributes:\n",
       "    long_name:     Small Phyto Carbon\n",
       "    units:         mmol/m^3\n",
       "    grid_loc:      3114\n",
       "    cell_methods:  time: mean"
      ]
     },
     "execution_count": 35,
     "metadata": {},
     "output_type": "execute_result"
    }
   ],
   "source": [
    "clim_openpolynas.phytoC_TOT_zint"
   ]
  },
  {
   "cell_type": "code",
   "execution_count": 36,
   "metadata": {},
   "outputs": [],
   "source": [
    "xlabels = ['Jan','Feb','Mar','Apr','May','Jun','Jul','Aug','Sep','Oct','Nov','Dec','Jan','Feb','Mar','Apr','May','Jun']\n",
    "xvals = np.arange(1,19,1)"
   ]
  },
  {
   "cell_type": "markdown",
   "metadata": {},
   "source": [
    "### Plot shifts in phytplankton biomass"
   ]
  },
  {
   "cell_type": "code",
   "execution_count": 37,
   "metadata": {},
   "outputs": [
    {
     "data": {
      "image/png": "[encoded data removed]",
      "text/plain": [
       "<Figure size 432x432 with 1 Axes>"
      ]
     },
     "metadata": {
      "needs_background": "light"
     },
     "output_type": "display_data"
    }
   ],
   "source": [
    "fig = plt.figure(figsize=(6,6))\n",
    "\n",
    "ax1 = fig.add_subplot(1,1,1)\n",
    "ax1.set_ylabel('biomass (mmol m$^{-2}$)')\n",
    "ax1.set_xlabel('Month')\n",
    "\n",
    "var='phytoC_TOT_zint'\n",
    "\n",
    "#plot mesozoo in non-polynyas\n",
    "ax1.plot(xvals,clim_nonpolynas[var], \n",
    "         color='turquoise', label='not in polynya')\n",
    "\n",
    "#plot mesozoo in open water polynyas\n",
    "ax1.scatter(xvals,clim_openpolynas[var], \n",
    "         color='orange', label='open water polynya')\n",
    "\n",
    "#plot 2090s\n",
    "ax1.scatter(xvals,clim_coastalpolynas[var], \n",
    "         color='red', label='coastal polynya')\n",
    "\n",
    "ax1.legend(loc='upper left')\n",
    "\n",
    "plt.xticks(xvals, xlabels, rotation='vertical');\n"
   ]
  },
  {
   "cell_type": "code",
   "execution_count": null,
   "metadata": {},
   "outputs": [],
   "source": []
  },
  {
   "cell_type": "code",
   "execution_count": null,
   "metadata": {},
   "outputs": [],
   "source": []
  },
  {
   "cell_type": "code",
   "execution_count": null,
   "metadata": {},
   "outputs": [],
   "source": []
  },
  {
   "cell_type": "code",
   "execution_count": null,
   "metadata": {},
   "outputs": [],
   "source": []
  },
  {
   "cell_type": "markdown",
   "metadata": {},
   "source": [
    "### with this threshold\n",
    "thres_var='hi'\n",
    "thres = '0.8m'"
   ]
  },
  {
   "cell_type": "code",
   "execution_count": 26,
   "metadata": {
    "tags": []
   },
   "outputs": [
    {
     "data": {
      "image/png": "[encoded data removed]",
      "text/plain": [
       "<Figure size 432x432 with 1 Axes>"
      ]
     },
     "metadata": {
      "needs_background": "light"
     },
     "output_type": "display_data"
    }
   ],
   "source": [
    "fig = plt.figure(figsize=(6,6))\n",
    "\n",
    "ax1 = fig.add_subplot(1,1,1)\n",
    "ax1.set_ylabel('biomass (mmol m$^{-2}$)')\n",
    "ax1.set_xlabel('Month')\n",
    "\n",
    "var='phytoC_TOT_zint'\n",
    "\n",
    "#plot mesozoo in non-polynyas\n",
    "ax1.plot(xvals,clim_nonpolynas[var], \n",
    "         color='turquoise', label='not in polynya')\n",
    "\n",
    "#plot mesozoo in open water polynyas\n",
    "ax1.scatter(xvals,clim_openpolynas[var], \n",
    "         color='orange', label='open water polynya')\n",
    "\n",
    "#plot 2090s\n",
    "ax1.scatter(xvals,clim_coastalpolynas[var], \n",
    "         color='red', label='coastal polynya')\n",
    "\n",
    "ax1.legend(loc='upper left')\n",
    "\n",
    "plt.xticks(xvals, xlabels, rotation='vertical');\n"
   ]
  },
  {
   "cell_type": "code",
   "execution_count": null,
   "metadata": {},
   "outputs": [],
   "source": []
  }
 ],
 "metadata": {
  "kernelspec": {
   "display_name": "Python [conda env:miniconda-analysis4]",
   "language": "python",
   "name": "conda-env-miniconda-analysis4-py"
  },
  "language_info": {
   "codemirror_mode": {
    "name": "ipython",
    "version": 3
   },
   "file_extension": ".py",
   "mimetype": "text/x-python",
   "name": "python",
   "nbconvert_exporter": "python",
   "pygments_lexer": "ipython3",
   "version": "3.7.9"
  }
 },
 "nbformat": 4,
 "nbformat_minor": 4
}
